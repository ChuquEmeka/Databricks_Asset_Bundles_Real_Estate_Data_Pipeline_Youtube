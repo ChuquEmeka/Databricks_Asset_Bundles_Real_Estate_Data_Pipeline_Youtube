{
 "cells": [
  {
   "cell_type": "code",
   "execution_count": null,
   "id": "b92348c9",
   "metadata": {},
   "outputs": [],
   "source": [
    "try:\n",
    "    import dlt\n",
    "except ImportError:\n",
    "    class dlt:\n",
    "        def table(comment, **options):\n",
    "            def _(f): return f\n",
    "            return _\n",
    "        def read(table_name):\n",
    "            return spark.read.table(table_name)\n",
    "\n",
    "from pyspark.sql import SparkSession\n",
    "from gold_properties import GoldProcessor\n",
    "spark = SparkSession.builder.getOrCreate()\n",
    "go = GoldProcessor(spark)\n",
    "\n",
    "@dlt.table(\n",
    "    comment=\"Aggregated property valuations in gold layer\",\n",
    "    table_properties={\"quality\": \"gold\"}\n",
    ")\n",
    "def go_property_valuations():\n",
    "    fact_df = dlt.read(\"si_fact_transaction\")\n",
    "    dim_df = dlt.read(\"si_dim_properties\")\n",
    "    return go.aggregate_property_valuations(fact_df, dim_df)\n",
    "\n",
    "@dlt.table(\n",
    "    comment=\"Neighborhood trends in gold layer\",\n",
    "    table_properties={\"quality\": \"gold\"}\n",
    ")\n",
    "def go_neighborhood_trends():\n",
    "    dim_df = dlt.read(\"si_dim_properties\")\n",
    "    return go.build_neighborhood_trends(dim_df)"
   ]
  }
 ],
 "metadata": {
  "language_info": {
   "name": "python"
  }
 },
 "nbformat": 4,
 "nbformat_minor": 5
}
