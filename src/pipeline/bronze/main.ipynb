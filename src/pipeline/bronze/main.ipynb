{
 "cells": [
  {
   "cell_type": "code",
   "execution_count": null,
   "id": "80b6c2d5",
   "metadata": {},
   "outputs": [],
   "source": [
    "from pyspark.sql import SparkSession\n",
    "from bronze_properties import BronzeProcessor\n",
    "\n",
    "spark = SparkSession.builder.getOrCreate()\n",
    "\n",
    "\n",
    "data_bucket = spark.conf.get(\"spark.databricks.bundle.variables.data_bucket\")\n",
    "gcs_prefix = spark.conf.get(\"spark.databricks.bundle.variables.gcs_prefix\")\n",
    "gcs_path = f\"gs://{data_bucket}/{gcs_prefix}\"\n",
    "\n",
    "# Initialize BronzeProcessor with dbutils\n",
    "bronze_processor = BronzeProcessor(spark, gcs_path, None, dbutils)\n",
    "\n",
    "\n",
    "try:\n",
    "    import dlt\n",
    "except ImportError:\n",
    "    class dlt:\n",
    "        @staticmethod\n",
    "        def table(comment=None, table_properties=None):\n",
    "            def decorator(f): return f\n",
    "            return decorator\n",
    "\n",
    "        @staticmethod\n",
    "        def expect_all(rules):\n",
    "            def decorator(f): return f\n",
    "            return decorator\n",
    "\n",
    "\n",
    "@dlt.table(\n",
    "    comment=\"Raw property data in bronze layer (streaming via Auto Loader)\",\n",
    "    table_properties={\"quality\": \"bronze\"}\n",
    ")\n",
    "def br_properties():\n",
    "    raw_df = bronze_processor.ingest_raw_property_data()\n",
    "    return raw_df"
   ]
  }
 ],
 "metadata": {
  "kernelspec": {
   "display_name": "venv",
   "language": "python",
   "name": "python3"
  },
  "language_info": {
   "name": "python",
   "version": "3.10.7"
  }
 },
 "nbformat": 4,
 "nbformat_minor": 5
}
