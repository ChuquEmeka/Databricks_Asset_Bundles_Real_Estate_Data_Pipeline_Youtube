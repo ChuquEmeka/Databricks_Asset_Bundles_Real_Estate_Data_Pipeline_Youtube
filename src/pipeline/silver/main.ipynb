{
 "cells": [
  {
   "cell_type": "code",
   "execution_count": null,
   "id": "57ead469",
   "metadata": {},
   "outputs": [],
   "source": [
    "\n",
    "from pyspark.sql import SparkSession\n",
    "from silver_properties import SilverProcessor\n",
    "spark = SparkSession.builder.appName(\"SilverLayer\").getOrCreate()\n",
    "\n",
    "bronze_table = \"br_properties\"\n",
    "\n",
    "\n",
    "silver_processor = SilverProcessor(spark, bronze_table)\n",
    "\n",
    "try:\n",
    "    import dlt\n",
    "except ImportError:\n",
    "    class dlt:\n",
    "        def table(comment, **options):\n",
    "            def _(f): return f\n",
    "            return _\n",
    "        def read_stream(table_name):\n",
    "            return spark.readStream.table(table_name)\n",
    "\n",
    "\n",
    "@dlt.table(\n",
    "    comment=\"Quarantine records for silver layer\",\n",
    "    table_properties={'quality': 'silver'},\n",
    "    partition_cols=['is_quarantined']\n",
    ")\n",
    "def si_quarantine_records():\n",
    "    bronze_df = dlt.read_stream(bronze_table)\n",
    "    valid_df, invalid_df = silver_processor.process_data(bronze_df)\n",
    "    return invalid_df.dropDuplicates()\n",
    "\n",
    "@dlt.table(\n",
    "    comment=\"Transaction fact table\",\n",
    "    table_properties={'quality': 'silver'}\n",
    ")\n",
    "def si_fact_transaction():\n",
    "    bronze_df = dlt.read_stream(bronze_table)\n",
    "    valid_df, _ = silver_processor.process_data(bronze_df)\n",
    "    return silver_processor.transform_transaction_facts(valid_df).dropDuplicates()\n",
    "\n",
    "@dlt.table(\n",
    "    comment=\"Property dimension table\",\n",
    "    table_properties={'quality': 'silver'}\n",
    ")\n",
    "def si_dim_properties():\n",
    "    bronze_df = dlt.read_stream(bronze_table)\n",
    "    valid_df, _ = silver_processor.process_data(bronze_df)\n",
    "    return silver_processor.transform_property_dimensions(valid_df).dropDuplicates()"
   ]
  }
 ],
 "metadata": {
  "language_info": {
   "name": "python"
  }
 },
 "nbformat": 4,
 "nbformat_minor": 5
}
