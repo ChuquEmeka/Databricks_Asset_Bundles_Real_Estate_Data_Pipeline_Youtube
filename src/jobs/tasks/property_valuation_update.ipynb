{
 "cells": [
  {
   "cell_type": "code",
   "execution_count": null,
   "id": "15048c63",
   "metadata": {},
   "outputs": [],
   "source": [
    "from pyspark.sql import SparkSession, DataFrame\n",
    "import pyspark.sql.functions as F\n",
    "\n",
    "spark = SparkSession.builder.getOrCreate()\n",
    "\n",
    "dbutils.widgets.text(\"catalog\", \"\")\n",
    "dbutils.widgets.text(\"schema\", \"\")\n",
    "dbutils.widgets.text(\"jobs_schema\", \"\")\n",
    "\n",
    "catalog = dbutils.widgets.get(\"catalog\")\n",
    "schema = dbutils.widgets.get(\"schema\")\n",
    "jobs_schema = dbutils.widgets.get(\"jobs_schema\")\n",
    "\n",
    "if not catalog or not schema or not jobs_schema:\n",
    "    raise ValueError(\"Missing required widget: catalog, schema, or jobs_schema\")\n",
    "\n",
    "agg_table = f\"{catalog}.{schema}.go_property_valuations\"\n",
    "update_table = f\"{jobs_schema}.updated_valuations\"\n",
    "\n",
    "class ValuationUpdateProcessor:\n",
    "    def __init__(self, spark: SparkSession, agg_table: str, update_table: str):\n",
    "        self.spark = spark\n",
    "        self.agg_table = agg_table\n",
    "        self.update_table = update_table\n",
    "\n",
    "    def recalculate_valuation_metrics(self, agg_df: DataFrame) -> DataFrame:\n",
    "        return (\n",
    "            agg_df.withColumn(\n",
    "                \"adjusted_sale_price_eur\",\n",
    "                F.round(F.col(\"avg_sale_price_eur\") * (1 + (F.lit(0.05) * F.rand())), 2)\n",
    "            ).withColumn(\"update_timestamp\", F.current_timestamp())\n",
    "        )\n",
    "\n",
    "    def save_valuation_updates(self, df: DataFrame) -> None:\n",
    "        df.write.format(\"delta\").mode(\"append\").saveAsTable(self.update_table)\n",
    "\n",
    "processor = ValuationUpdateProcessor(spark, agg_table, update_table)\n",
    "agg_df = spark.table(agg_table)\n",
    "updated_df = processor.recalculate_valuation_metrics(agg_df)\n",
    "processor.save_valuation_updates(updated_df)"
   ]
  }
 ],
 "metadata": {
  "language_info": {
   "name": "python"
  }
 },
 "nbformat": 4,
 "nbformat_minor": 5
}
